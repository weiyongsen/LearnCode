{
 "cells": [
  {
   "cell_type": "code",
   "execution_count": null,
   "metadata": {
    "vscode": {
     "languageId": "plaintext"
    }
   },
   "outputs": [],
   "source": [
    "print(\"transformer\")"
   ]
  },
  {
   "cell_type": "markdown",
   "metadata": {},
   "source": [
    "词嵌入，embeddings，让文本变为数字，embeddings越好模型就会越好。\n",
    "相似的单词会赋予相似的数据，这样距离比较近。"
   ]
  },
  {
   "cell_type": "markdown",
   "metadata": {},
   "source": [
    "attention计算出一个句子中每个单词之间的相关性。"
   ]
  }
 ],
 "metadata": {
  "language_info": {
   "name": "python"
  }
 },
 "nbformat": 4,
 "nbformat_minor": 2
}
