{
 "cells": [
  {
   "cell_type": "markdown",
   "metadata": {},
   "source": [
    "### 冒泡排序\n",
    "基本思想：经过多次迭代，通过相邻元素之间的比较与交换，使值较小的元素逐步从后面移到前面，值较大的元素从前面移到后面。"
   ]
  },
  {
   "cell_type": "code",
   "execution_count": 3,
   "metadata": {},
   "outputs": [
    {
     "name": "stdout",
     "output_type": "stream",
     "text": [
      "[1, 2, 3, 4, 5, 6]\n"
     ]
    }
   ],
   "source": [
    "def bubbleSort(nums):\n",
    "    # 第 i 趟「冒泡」\n",
    "    for i in range(len(nums) - 1):\n",
    "        flag = False    # 是否发生交换的标志位\n",
    "        # 从数组中前 n - i + 1 个元素的第 1 个元素开始，相邻两个元素进行比较\n",
    "        for j in range(len(nums) - i - 1):\n",
    "            # 相邻两个元素进行比较，如果前者大于后者，则交换位置\n",
    "            if nums[j] > nums[j+1]:\n",
    "                nums[j], nums[j+1] = nums[j+1], nums[j]\n",
    "                flag = True\n",
    "        if not flag:    # 此趟遍历未交换任何元素，直接跳出循环\n",
    "            break\n",
    "    return nums\n",
    "\n",
    "a = [5,2,3,6,1,4]\n",
    "print(bubbleSort(a))"
   ]
  },
  {
   "cell_type": "markdown",
   "metadata": {},
   "source": [
    "### 选择排序\n",
    "基本思想：将数组分为两个区间：左侧为已排序区间，右侧为未排序区间。每趟从未排序区间中选择一个值最小的元素，放到已排序区间的末尾，从而将该元素划分到已排序区间。"
   ]
  },
  {
   "cell_type": "code",
   "execution_count": 5,
   "metadata": {},
   "outputs": [
    {
     "name": "stdout",
     "output_type": "stream",
     "text": [
      "[1, 2, 3, 4, 5, 6]\n"
     ]
    }
   ],
   "source": [
    "# 选择排序算法\n",
    "def selectSort(nums):\n",
    "    for i in range(len(nums) - 1):\n",
    "        # 记录未排序区间中最小值的位置\n",
    "        min_i = i\n",
    "        for j in range(i + 1, len(nums)):\n",
    "            if nums[j] < nums[min_i]:\n",
    "                min_i = j\n",
    "        # 如果找到最小值的位置，将 i 位置上元素与最小值位置上的元素进行交换\n",
    "        if i != min_i:\n",
    "            nums[i], nums[min_i] = nums[min_i], nums[i]\n",
    "    return nums\n",
    "\n",
    "a = [5,2,3,6,1,4]\n",
    "print(selectSort(a))"
   ]
  },
  {
   "cell_type": "markdown",
   "metadata": {},
   "source": [
    "### 插入排序\n",
    "基本思想：将数组分为两个区间：左侧为有序区间，右侧为无序区间。每趟从无序区间取出一个元素，然后将其插入到有序区间的适当位置。"
   ]
  },
  {
   "cell_type": "code",
   "execution_count": null,
   "metadata": {},
   "outputs": [
    {
     "name": "stdout",
     "output_type": "stream",
     "text": [
      "[1, 2, 3, 4, 5, 6]\n"
     ]
    }
   ],
   "source": [
    "# 插入排序算法\n",
    "def insertionSort(nums):\n",
    "    # 遍历无序区间\n",
    "    for i in range(1, len(nums)):\n",
    "        temp = nums[i]\n",
    "        j = i\n",
    "        # 从右至左遍历有序区间\n",
    "        while j > 0 and nums[j - 1] > temp:\n",
    "            # 将有序区间中插入位置右侧的元素依次右移一位\n",
    "            nums[j] = nums[j - 1]\n",
    "            j -= 1\n",
    "        # 将该元素插入到适当位置\n",
    "        nums[j] = temp\n",
    "\n",
    "    return nums"
   ]
  },
  {
   "cell_type": "markdown",
   "metadata": {},
   "source": [
    "### 希尔排序\n",
    "基本思想：\n",
    "将整个数组切按照一定的间隔取值划分为若干个子数组，每个子数组分别进行插入排序。然后逐渐缩小间隔进行下一轮划分子数组和对子数组进行插入排序。直至最后一轮排序间隔为 1，对整个数组进行插入排序。"
   ]
  },
  {
   "cell_type": "code",
   "execution_count": 8,
   "metadata": {},
   "outputs": [
    {
     "name": "stdout",
     "output_type": "stream",
     "text": [
      "[1, 2, 3, 4, 5, 6]\n"
     ]
    }
   ],
   "source": [
    "def shellSort(nums):\n",
    "        size = len(nums)\n",
    "        gap = size // 2\n",
    "        # 按照 gap 分组\n",
    "        while gap > 0:\n",
    "            # 对每组元素进行插入排序\n",
    "            for i in range(gap, size):\n",
    "                # temp 为每组中无序数组第 1 个元素\n",
    "                temp = nums[i]\n",
    "                j = i\n",
    "                # 从右至左遍历每组中的有序数组元素\n",
    "                while j >= gap and nums[j - gap] > temp:\n",
    "                    # 将每组有序数组中插入位置右侧的元素依次在组中右移一位\n",
    "                    nums[j] = nums[j - gap]\n",
    "                    j -= gap\n",
    "                # 将该元素插入到适当位置\n",
    "                nums[j] = temp\n",
    "            # 缩小 gap 间隔\n",
    "            gap = gap // 2\n",
    "        return nums\n",
    "\n",
    "a = [5,2,3,6,1,4]\n",
    "print(shellSort(a))"
   ]
  },
  {
   "cell_type": "markdown",
   "metadata": {},
   "source": [
    "### 归并排序\n",
    "基本思想：采用经典的分治策略，先递归地将当前数组平均分成两半，然后将有序数组两两合并，最终合并成一个有序数组。"
   ]
  },
  {
   "cell_type": "code",
   "execution_count": 10,
   "metadata": {},
   "outputs": [
    {
     "name": "stdout",
     "output_type": "stream",
     "text": [
      "[1, 2, 3, 4, 5, 6]\n"
     ]
    }
   ],
   "source": [
    "# 合并过程\n",
    "def merge(left_nums, right_nums):\n",
    "    nums = []\n",
    "    left_i, right_i = 0, 0\n",
    "    while left_i < len(left_nums) and right_i < len(right_nums):\n",
    "        # 将两个有序子数组中较小元素依次插入到结果数组中\n",
    "        if left_nums[left_i] < right_nums[right_i]:\n",
    "            nums.append(left_nums[left_i])\n",
    "            left_i += 1\n",
    "        else:\n",
    "            nums.append(right_nums[right_i])\n",
    "            right_i += 1\n",
    "    \n",
    "    # 如果左子数组有剩余元素，则将其插入到结果数组中\n",
    "    while left_i < len(left_nums):\n",
    "        nums.append(left_nums[left_i])\n",
    "        left_i += 1\n",
    "    \n",
    "    # 如果右子数组有剩余元素，则将其插入到结果数组中\n",
    "    while right_i < len(right_nums):\n",
    "        nums.append(right_nums[right_i])\n",
    "        right_i += 1\n",
    "    \n",
    "    # 返回合并后的结果数组\n",
    "    return nums\n",
    "\n",
    "# 分解过程\n",
    "def mergeSort(nums):\n",
    "    # 数组元素个数小于等于 1 时，直接返回原数组\n",
    "    if len(nums) <= 1:\n",
    "        return nums\n",
    "    \n",
    "    mid = len(nums) // 2                        # 将数组从中间位置分为左右两个数组\n",
    "    left_nums = mergeSort(nums[0: mid])    # 递归将左子数组进行分解和排序\n",
    "    right_nums =  mergeSort(nums[mid:])    # 递归将右子数组进行分解和排序\n",
    "    return merge(left_nums, right_nums)    # 把当前数组组中有序子数组逐层向上，进行两两合并\n",
    "\n",
    "a = [5,2,3,6,1,4]\n",
    "print(mergeSort(a))"
   ]
  }
 ],
 "metadata": {
  "kernelspec": {
   "display_name": "py38",
   "language": "python",
   "name": "python3"
  },
  "language_info": {
   "codemirror_mode": {
    "name": "ipython",
    "version": 3
   },
   "file_extension": ".py",
   "mimetype": "text/x-python",
   "name": "python",
   "nbconvert_exporter": "python",
   "pygments_lexer": "ipython3",
   "version": "3.8.18"
  }
 },
 "nbformat": 4,
 "nbformat_minor": 2
}
