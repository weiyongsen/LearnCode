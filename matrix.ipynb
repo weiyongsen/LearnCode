{
 "cells": [
  {
   "cell_type": "code",
   "execution_count": 2,
   "metadata": {},
   "outputs": [
    {
     "name": "stdout",
     "output_type": "stream",
     "text": [
      "在右端添加元素后: deque([1, 2, 3])\n",
      "在左端添加元素后: deque([0, 1, 2, 3])\n",
      "从右端移除元素后: deque([0, 1, 2])\n",
      "从左端移除元素后: deque([1, 2])\n",
      "访问第一个元素: 1\n",
      "访问最后一个元素: 2\n",
      "右旋转 1 步后: deque([2, 1])\n",
      "左旋转 1 步后: deque([1, 2])\n",
      "清空 deque 后: deque([])\n",
      "扩展 deque 后: deque([1, 2, 3])\n",
      "从左端扩展 deque 后: deque([-2, -1, 0, 1, 2, 3])\n"
     ]
    }
   ],
   "source": [
    "# python中deque的各种操作\n",
    "from collections import deque\n",
    "\n",
    "# 创建一个空的 deque\n",
    "d = deque()\n",
    "\n",
    "# 在 deque 的右端添加元素\n",
    "d.append(1)\n",
    "d.append(2)\n",
    "d.append(3)\n",
    "print(\"在右端添加元素后:\", d)\n",
    "\n",
    "# 在 deque 的左端添加元素\n",
    "d.appendleft(0)\n",
    "print(\"在左端添加元素后:\", d)\n",
    "\n",
    "# 从 deque 的右端移除元素\n",
    "d.pop()\n",
    "print(\"从右端移除元素后:\", d)\n",
    "\n",
    "# 从 deque 的左端移除元素\n",
    "d.popleft()\n",
    "print(\"从左端移除元素后:\", d)\n",
    "\n",
    "# 访问 deque 中的元素\n",
    "print(\"访问第一个元素:\", d[0])\n",
    "print(\"访问最后一个元素:\", d[-1])\n",
    "\n",
    "# 旋转 deque 中的元素\n",
    "d.rotate(1)\n",
    "print(\"右旋转 1 步后:\", d)\n",
    "d.rotate(-1)\n",
    "print(\"左旋转 1 步后:\", d)\n",
    "\n",
    "# 清空 deque\n",
    "d.clear()\n",
    "print(\"清空 deque 后:\", d)\n",
    "\n",
    "# 扩展 deque\n",
    "d.extend([1, 2, 3])\n",
    "print(\"扩展 deque 后:\", d)\n",
    "d.extendleft([0, -1, -2])\n",
    "print(\"从左端扩展 deque 后:\", d)\n"
   ]
  },
  {
   "cell_type": "code",
   "execution_count": 3,
   "metadata": {},
   "outputs": [
    {
     "data": {
      "text/plain": [
       "[1, 2, 4, 7, 5, 3, 6, 8, 9]"
      ]
     },
     "execution_count": 3,
     "metadata": {},
     "output_type": "execute_result"
    }
   ],
   "source": [
    "# 二维数组的对角线遍历\n",
    "from typing import List\n",
    "\"\"\"\n",
    "设对角线从左上到右下的编号为 i∈[0,m+n−2]：\n",
    "\n",
    "当 i 为偶数时，则第 i 条对角线的走向是从下往上遍历；\n",
    "当 i 为奇数时，则第 i 条对角线的走向是从上往下遍历；\n",
    "当第 i 条对角线从下往上遍历时，每次行索引减 1，列索引加 1，直到矩阵的边缘为止：\n",
    "\n",
    "当 i<m 时，则此时对角线遍历的起点位置为 (i,0)；\n",
    "当 i≥m 时，则此时对角线遍历的起点位置为 (m−1,i−m+1)；\n",
    "当第 i 条对角线从上往下遍历时，每次行索引加 1，列索引减 1，直到矩阵的边缘为止：\n",
    "\n",
    "当 i<n 时，则此时对角线遍历的起点位置为 (0,i)；\n",
    "当 i≥n 时，则此时对角线遍历的起点位置为 (i−n+1,n−1)；\n",
    "\"\"\"\n",
    "mat = [[1,2,3],[4,5,6],[7,8,9]]\n",
    "def findDiagonalOrder(mat: List[List[int]]) -> List[int]:\n",
    "    if not mat: return []\n",
    "    m, n = len(mat), len(mat[0])\n",
    "    res = []\n",
    "    for i in range(m + n - 1):\n",
    "        if i % 2 == 0:\n",
    "            x, y = min(i, m - 1), max(0, i - m + 1)\n",
    "            while x >= 0 and y < n:\n",
    "                res.append(mat[x][y])\n",
    "                x -= 1\n",
    "                y += 1\n",
    "        else:\n",
    "            x, y = max(0, i - n + 1), min(i, n - 1)\n",
    "            while x < m and y >= 0:\n",
    "                res.append(mat[x][y])\n",
    "                x += 1\n",
    "                y -= 1\n",
    "    return res\n",
    "findDiagonalOrder(mat=mat)"
   ]
  },
  {
   "cell_type": "code",
   "execution_count": 4,
   "metadata": {},
   "outputs": [
    {
     "name": "stdout",
     "output_type": "stream",
     "text": [
      "[[9, 6], [7, 8]]\n",
      "[[9, 6], [7, 8]]\n",
      "[[5, 6], [7, 8]]\n"
     ]
    }
   ],
   "source": [
    "# 数组的深拷贝和浅拷贝\n",
    "# 浅拷贝只是复制了引用，而不是复制内容\n",
    "matrix = [[1, 2], [3, 4]]\n",
    "matrix_new = [[5, 6], [7, 8]]\n",
    "matrix = matrix_new\n",
    "matrix[0][0] = 9\n",
    "print(matrix_new)  # 输出: [[9, 6], [7, 8]]\n",
    "\n",
    "\n",
    "\n",
    "# 只是替换了 matrix 的子列表引用（没有创建新的子列表），但这些子列表仍然是 matrix_new 里面的对象\n",
    "matrix = [[1, 2], [3, 4]]\n",
    "matrix_new = [[5, 6], [7, 8]]\n",
    "\n",
    "matrix[:] = matrix_new  # 只是让 matrix 指向 matrix_new 的子列表，而不是复制内容\n",
    "matrix[0][0] = 9  # 修改 matrix[0][0]\n",
    "\n",
    "print(matrix_new)  # 输出 [[9, 6], [7, 8]]，为什么 matrix_new 也变了？\n",
    "\n",
    "\n",
    "\n",
    "# 使用 copy.deepcopy() 函数进行深拷贝\n",
    "import copy\n",
    "\n",
    "matrix = [[1, 2], [3, 4]]\n",
    "matrix_new = [[5, 6], [7, 8]]\n",
    "matrix = copy.deepcopy(matrix_new)  # 深拷贝 matrix_new 的内容到 matrix\n",
    "matrix[0][0] = 9\n",
    "print(matrix_new)  # 输出: [[5, 6], [7, 8]]"
   ]
  },
  {
   "cell_type": "code",
   "execution_count": 5,
   "metadata": {},
   "outputs": [
    {
     "name": "stdout",
     "output_type": "stream",
     "text": [
      "matrix: [9, 6, 7, 8]\n",
      "matrix_new: [5, 6, 7, 8]\n"
     ]
    }
   ],
   "source": [
    "# 对于一维列表，使用 matrix[:] = matrix_new 进行拷贝是浅拷贝，但由于没有嵌套的子列表，这种浅拷贝在效果上与深拷贝没有区别。\n",
    "matrix = [1, 2, 3, 4]\n",
    "matrix_new = [5, 6, 7, 8]\n",
    "\n",
    "matrix[:] = matrix_new  # 复制 matrix_new 的内容到 matrix\n",
    "matrix[0] = 9  # 修改 matrix[0]\n",
    "\n",
    "print(\"matrix:\", matrix)  # 输出: [9, 6, 7, 8]\n",
    "print(\"matrix_new:\", matrix_new)  # 输出: [5, 6, 7, 8]"
   ]
  },
  {
   "cell_type": "markdown",
   "metadata": {},
   "source": [
    "在 Python 中：\n",
    "\n",
    "整数（int）是不可变对象，赋值只是创建一个新的引用，不会影响原来的变量。\n",
    "a = b 并不会让 a 绑定 b 本身，而是让 a 指向 b 所指向的对象。\n",
    "Python 的赋值是“对象引用”机制，但对于不可变对象（int、float、str、tuple），变量改变时会创建新的对象，而不是修改原对象。\n",
    "也就是说：\n",
    "a = b (不可变对象，如 int、float、str)\t❌ 不会影响 b\ta 和 b 只是指向相同的值，不是引用\n",
    "a = b (可变对象，如 list、dict)\t✅ a 和 b 共享同一对象\t修改 a 可能影响 b"
   ]
  },
  {
   "cell_type": "code",
   "execution_count": 7,
   "metadata": {},
   "outputs": [
    {
     "name": "stdout",
     "output_type": "stream",
     "text": [
      "[[1, 2, 3], [4, 5, 6], [7, 8, 9]]\n"
     ]
    }
   ],
   "source": [
    "matrix = [[1, 2, 3], [4, 5, 6], [7, 8, 9]]\n",
    "matrix[:][1] = [0] * 3  # ❌ 这不会修改原来的 matrix\n",
    "print(matrix)  # 仍然是 [[1, 2, 3], [4, 5, 6], [7, 8, 9]]\n"
   ]
  },
  {
   "cell_type": "markdown",
   "metadata": {},
   "source": [
    "matrix[:][1] = [0] * 3 并不会修改原来的 matrix，这是因为 matrix[:] 创建了一个新的列表，该列表是 matrix 的浅拷贝。对这个新列表的修改不会影响原来的 matrix。"
   ]
  },
  {
   "cell_type": "code",
   "execution_count": null,
   "metadata": {},
   "outputs": [
    {
     "name": "stdout",
     "output_type": "stream",
     "text": [
      "[[5, 6], [7, 8]]\n"
     ]
    }
   ],
   "source": [
    "# 创建0数组问题\n",
    "\n",
    "m, n = 3, 4\n",
    "# 创建一个 m 行 n 列的二维数组\n",
    "matrix = [[0] * n for _ in range(m)] # 推荐使用列表推导式创建二维数组\n",
    "\n",
    "# 创建一个 m 行 n 列的二维数组\n",
    "matrix = [[0] * n] * m  # 这种方式创建的二维数组是错误的，因为所有行其实是引用了同一个列表对象，修改一个元素会影响所有行："
   ]
  },
  {
   "cell_type": "code",
   "execution_count": null,
   "metadata": {},
   "outputs": [],
   "source": []
  }
 ],
 "metadata": {
  "kernelspec": {
   "display_name": "py38",
   "language": "python",
   "name": "python3"
  },
  "language_info": {
   "codemirror_mode": {
    "name": "ipython",
    "version": 3
   },
   "file_extension": ".py",
   "mimetype": "text/x-python",
   "name": "python",
   "nbconvert_exporter": "python",
   "pygments_lexer": "ipython3",
   "version": "3.8.18"
  }
 },
 "nbformat": 4,
 "nbformat_minor": 2
}
